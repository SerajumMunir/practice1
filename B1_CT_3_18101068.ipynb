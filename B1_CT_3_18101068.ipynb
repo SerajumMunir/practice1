{
  "nbformat": 4,
  "nbformat_minor": 0,
  "metadata": {
    "colab": {
      "name": "B1_CT_3_18101068.ipynb",
      "provenance": [],
      "authorship_tag": "ABX9TyMRu5nXrK1IhHULizXFUjum",
      "include_colab_link": true
    },
    "kernelspec": {
      "name": "python3",
      "display_name": "Python 3"
    }
  },
  "cells": [
    {
      "cell_type": "markdown",
      "metadata": {
        "id": "view-in-github",
        "colab_type": "text"
      },
      "source": [
        "<a href=\"https://colab.research.google.com/github/SerajumMunir/practice1/blob/master/B1_CT_3_18101068.ipynb\" target=\"_parent\"><img src=\"https://colab.research.google.com/assets/colab-badge.svg\" alt=\"Open In Colab\"/></a>"
      ]
    },
    {
      "cell_type": "markdown",
      "metadata": {
        "id": "PRUElBRikZCS",
        "colab_type": "text"
      },
      "source": [
        "***Question no 1***"
      ]
    },
    {
      "cell_type": "code",
      "metadata": {
        "id": "pGGD832il1BC",
        "colab_type": "code",
        "colab": {
          "base_uri": "https://localhost:8080/",
          "height": 34
        },
        "outputId": "26e23c79-f934-4dc3-9909-d65a152d6215"
      },
      "source": [
        "n=int(input(\"n = \"))"
      ],
      "execution_count": 34,
      "outputs": [
        {
          "output_type": "stream",
          "text": [
            "n = 5\n"
          ],
          "name": "stdout"
        }
      ]
    },
    {
      "cell_type": "code",
      "metadata": {
        "id": "gvYRaow_kzJZ",
        "colab_type": "code",
        "colab": {
          "base_uri": "https://localhost:8080/",
          "height": 34
        },
        "outputId": "95152621-76a8-4d42-b52f-220efbd0a6d3"
      },
      "source": [
        "sum=0\n",
        "j=1\n",
        "for i in range(0,n,1):\n",
        "  sum=sum+j\n",
        "  j=j+2\n",
        "print(sum)"
      ],
      "execution_count": 35,
      "outputs": [
        {
          "output_type": "stream",
          "text": [
            "25\n"
          ],
          "name": "stdout"
        }
      ]
    },
    {
      "cell_type": "markdown",
      "metadata": {
        "id": "rpp8uyetuJjP",
        "colab_type": "text"
      },
      "source": [
        "***Question no 2***"
      ]
    },
    {
      "cell_type": "code",
      "metadata": {
        "colab_type": "code",
        "id": "h2kGuvXku67w",
        "colab": {}
      },
      "source": [
        "student1={\n",
        "    \"ID\":1,\n",
        "    \"FirstName\":\"Peter\",\n",
        "    \"LastName\":\"Lee\",\n",
        "    \"Email\":\"plee@university.edu\",\n",
        "    \"YearOfBirth\":1992\n",
        "}"
      ],
      "execution_count": 36,
      "outputs": []
    },
    {
      "cell_type": "code",
      "metadata": {
        "colab_type": "code",
        "id": "bnzVep_Wu7VY",
        "colab": {}
      },
      "source": [
        "student2={\n",
        "    \"ID\":2,\n",
        "    \"FirstName\":\"Jonathan\",\n",
        "    \"LastName\":\"Edwadrds\",\n",
        "    \"Email\":\"jedwards@university.edu\",\n",
        "    \"YearOfBirth\":1994\n",
        "}"
      ],
      "execution_count": 38,
      "outputs": []
    },
    {
      "cell_type": "code",
      "metadata": {
        "colab_type": "code",
        "id": "NO9O1Tmau7tm",
        "colab": {}
      },
      "source": [
        "student3={\n",
        "    \"ID\":3,\n",
        "    \"FirstName\":\"Marilyn\",\n",
        "    \"LastName\":\"Johnson\",\n",
        "    \"Email\":\"mjohnson@university.edu\",\n",
        "    \"YearOfBirth\":1993\n",
        "}"
      ],
      "execution_count": 39,
      "outputs": []
    },
    {
      "cell_type": "code",
      "metadata": {
        "colab_type": "code",
        "id": "WWJrny5rwMzH",
        "colab": {}
      },
      "source": [
        "student4={\n",
        "    \"ID\":6,\n",
        "    \"FirstName\":\"Joe\",\n",
        "    \"LastName\":\"Kim\",\n",
        "    \"Email\":\"jkim@university.edu\",\n",
        "    \"YearOfBirth\":1992\n",
        "}"
      ],
      "execution_count": 41,
      "outputs": []
    },
    {
      "cell_type": "code",
      "metadata": {
        "id": "StkDGDJbwsEk",
        "colab_type": "code",
        "colab": {}
      },
      "source": [
        "student=[student1,student2,student3,student4]"
      ],
      "execution_count": 42,
      "outputs": []
    },
    {
      "cell_type": "code",
      "metadata": {
        "id": "Dr1zxwzkw4MN",
        "colab_type": "code",
        "colab": {
          "base_uri": "https://localhost:8080/",
          "height": 84
        },
        "outputId": "4e386b25-d351-447f-f414-943911e27d1c"
      },
      "source": [
        "for i in range(0,4,1):\n",
        "  print(student[i][\"FirstName\"],student[i][\"LastName\"])"
      ],
      "execution_count": 57,
      "outputs": [
        {
          "output_type": "stream",
          "text": [
            "Peter Lee\n",
            "Jonathan Edwadrds\n",
            "Marilyn Johnson\n",
            "Joe Kim\n"
          ],
          "name": "stdout"
        }
      ]
    }
  ]
}