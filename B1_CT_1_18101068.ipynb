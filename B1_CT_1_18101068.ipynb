{
  "nbformat": 4,
  "nbformat_minor": 0,
  "metadata": {
    "colab": {
      "name": "B1_CT_1_18101068.ipynb",
      "provenance": [],
      "collapsed_sections": [],
      "authorship_tag": "ABX9TyOlmoLmJYdhaGP71ipNLwoN",
      "include_colab_link": true
    },
    "kernelspec": {
      "name": "python3",
      "display_name": "Python 3"
    }
  },
  "cells": [
    {
      "cell_type": "markdown",
      "metadata": {
        "id": "view-in-github",
        "colab_type": "text"
      },
      "source": [
        "<a href=\"https://colab.research.google.com/github/SerajumMunir/practice1/blob/master/B1_CT_1_18101068.ipynb\" target=\"_parent\"><img src=\"https://colab.research.google.com/assets/colab-badge.svg\" alt=\"Open In Colab\"/></a>"
      ]
    },
    {
      "cell_type": "markdown",
      "metadata": {
        "id": "b_7Zx97OZQRp",
        "colab_type": "text"
      },
      "source": [
        "**1.Write a python program to calculate the perimeter of a circle.**"
      ]
    },
    {
      "cell_type": "code",
      "metadata": {
        "id": "m-qZkHHYZrkh",
        "colab_type": "code",
        "colab": {
          "base_uri": "https://localhost:8080/",
          "height": 34
        },
        "outputId": "da45017a-1f7f-4fc0-b644-8ed47c74a9f7"
      },
      "source": [
        "r=float(input(\"r = \"))"
      ],
      "execution_count": null,
      "outputs": [
        {
          "output_type": "stream",
          "text": [
            "r = 10\n"
          ],
          "name": "stdout"
        }
      ]
    },
    {
      "cell_type": "code",
      "metadata": {
        "id": "FLdVoCvRbD4z",
        "colab_type": "code",
        "colab": {}
      },
      "source": [
        "p=round(2*3.1416*r,2)"
      ],
      "execution_count": null,
      "outputs": []
    },
    {
      "cell_type": "code",
      "metadata": {
        "id": "pWMaOM7CZoRB",
        "colab_type": "code",
        "colab": {
          "base_uri": "https://localhost:8080/",
          "height": 34
        },
        "outputId": "b5dac25b-da50-4204-c42e-feba8e0dc0b0"
      },
      "source": [
        "print(\"Perimeter:\",p)"
      ],
      "execution_count": null,
      "outputs": [
        {
          "output_type": "stream",
          "text": [
            "Perimeter: 62.83\n"
          ],
          "name": "stdout"
        }
      ]
    },
    {
      "cell_type": "markdown",
      "metadata": {
        "id": "7Ixrsd9ldFWU",
        "colab_type": "text"
      },
      "source": [
        "**2.Write a python program to calculate the average of five numbers.**"
      ]
    },
    {
      "cell_type": "code",
      "metadata": {
        "id": "vkeiL6PXdccI",
        "colab_type": "code",
        "colab": {
          "base_uri": "https://localhost:8080/",
          "height": 101
        },
        "outputId": "f7b66bc2-6fa3-47d6-d423-91197e051dfc"
      },
      "source": [
        "a=float(input(\"a = \"))\n",
        "b=float(input(\"b = \"))\n",
        "c=float(input(\"c = \"))\n",
        "d=float(input(\"d = \"))\n",
        "e=float(input(\"e = \"))"
      ],
      "execution_count": null,
      "outputs": [
        {
          "output_type": "stream",
          "text": [
            "a = 10\n",
            "b = 20\n",
            "c = 30\n",
            "d = 40\n",
            "e = 50\n"
          ],
          "name": "stdout"
        }
      ]
    },
    {
      "cell_type": "code",
      "metadata": {
        "id": "HtBRplQSeBjZ",
        "colab_type": "code",
        "colab": {
          "base_uri": "https://localhost:8080/",
          "height": 34
        },
        "outputId": "59cadf0f-81de-46f5-ac77-ffbd8a03abd2"
      },
      "source": [
        "print(\"average:\",(a+b+c+d+e)/5)"
      ],
      "execution_count": null,
      "outputs": [
        {
          "output_type": "stream",
          "text": [
            "average: 30.0\n"
          ],
          "name": "stdout"
        }
      ]
    },
    {
      "cell_type": "markdown",
      "metadata": {
        "id": "gF7vi8A6eRQx",
        "colab_type": "text"
      },
      "source": [
        "**3.Write a python program to calculate simple interest.**"
      ]
    },
    {
      "cell_type": "code",
      "metadata": {
        "id": "NxPU_2rkefQr",
        "colab_type": "code",
        "colab": {
          "base_uri": "https://localhost:8080/",
          "height": 67
        },
        "outputId": "e06594ce-7a6d-4cbc-e7b4-8152badde327"
      },
      "source": [
        "P=int(input(\"P = \"))\n",
        "R=int(input(\"R = \"))\n",
        "T=int(input(\"T = \"))"
      ],
      "execution_count": 37,
      "outputs": [
        {
          "output_type": "stream",
          "text": [
            "P = 10000\n",
            "R = 5\n",
            "T = 5\n"
          ],
          "name": "stdout"
        }
      ]
    },
    {
      "cell_type": "code",
      "metadata": {
        "id": "kc_ZWzwogrWz",
        "colab_type": "code",
        "colab": {
          "base_uri": "https://localhost:8080/",
          "height": 34
        },
        "outputId": "70a98b5f-1cd0-44b6-b91c-3d86e5ecdc96"
      },
      "source": [
        "round((P*T*R)/100)"
      ],
      "execution_count": 38,
      "outputs": [
        {
          "output_type": "execute_result",
          "data": {
            "text/plain": [
              "2500"
            ]
          },
          "metadata": {
            "tags": []
          },
          "execution_count": 38
        }
      ]
    }
  ]
}