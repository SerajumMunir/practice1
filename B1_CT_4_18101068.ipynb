{
  "nbformat": 4,
  "nbformat_minor": 0,
  "metadata": {
    "colab": {
      "name": "B1_CT_4_18101068.ipynb",
      "provenance": [],
      "authorship_tag": "ABX9TyMH7JrPUVxZwzZlZpeLghdc",
      "include_colab_link": true
    },
    "kernelspec": {
      "name": "python3",
      "display_name": "Python 3"
    }
  },
  "cells": [
    {
      "cell_type": "markdown",
      "metadata": {
        "id": "view-in-github",
        "colab_type": "text"
      },
      "source": [
        "<a href=\"https://colab.research.google.com/github/SerajumMunir/practice1/blob/master/B1_CT_4_18101068.ipynb\" target=\"_parent\"><img src=\"https://colab.research.google.com/assets/colab-badge.svg\" alt=\"Open In Colab\"/></a>"
      ]
    },
    {
      "cell_type": "markdown",
      "metadata": {
        "id": "PLIRex402enV",
        "colab_type": "text"
      },
      "source": [
        "**Question no 1**"
      ]
    },
    {
      "cell_type": "code",
      "metadata": {
        "id": "YmZNJwgY2pGA",
        "colab_type": "code",
        "colab": {}
      },
      "source": [
        "class Employee:\n",
        "  def __init__(self,id,name,department,position,manager,level):\n",
        "    self.id=id\n",
        "    self.name=name\n",
        "    self.department=department\n",
        "    self.position=position\n",
        "    self.manager=manager\n",
        "    self.level=level"
      ],
      "execution_count": 1,
      "outputs": []
    },
    {
      "cell_type": "code",
      "metadata": {
        "id": "nmdT0cKh3cuZ",
        "colab_type": "code",
        "colab": {}
      },
      "source": [
        "employee1 = Employee(1,\"David\",\"Manager\",\"IT\",\"NULL\",1)\n",
        "employee2 = Employee(4,\"Julia\",\"Manager\",\"HR\",\"NULL\",1)\n",
        "employee3 = Employee(8,\"Sophie\",\"Manager\",\"Marketing\",\"NULL\",1)"
      ],
      "execution_count": 2,
      "outputs": []
    },
    {
      "cell_type": "markdown",
      "metadata": {
        "id": "bnoPHzOv4z-h",
        "colab_type": "text"
      },
      "source": [
        "***Question no 2***"
      ]
    },
    {
      "cell_type": "code",
      "metadata": {
        "id": "dGxvC0Fr45F0",
        "colab_type": "code",
        "colab": {}
      },
      "source": [
        "class BankAccount:\n",
        "  NameOfAccount=\" \"\n",
        "  AccountNumber=\" \"\n",
        "  CurrentBalance=0.0\n",
        "\n",
        "  \n",
        "  def __init__(self,NameOfAccount,AccountNumber,CurrentBalance):\n",
        "    self.NameOfAccount=NameOfAccount\n",
        "    self.AccountNumber=AccountNumber\n",
        "    self.CurrentBalance=CurrentBalance\n",
        "\n",
        "  def Deposite(self,amount):\n",
        "    self.CurrentBalance+=amount\n",
        "\n",
        "  def Withdraw(self,amount):\n",
        "    if self.CurrentBalance >= amount :\n",
        "      self.CurrentBalance=self.CurrentBalance-amount\n",
        "  \n",
        "  def ShowBalance(self):\n",
        "    print(self.CurrentBalance)\n"
      ],
      "execution_count": 13,
      "outputs": []
    },
    {
      "cell_type": "markdown",
      "metadata": {
        "id": "Ym7Gz1O878Um",
        "colab_type": "text"
      },
      "source": [
        "***Question no 3***"
      ]
    },
    {
      "cell_type": "code",
      "metadata": {
        "id": "gxwSRkdzb7IL",
        "colab_type": "code",
        "colab": {}
      },
      "source": [
        "def function1(n):\n",
        "  sum=0\n",
        "  for i in range(1,n+1):\n",
        "    sum=sum+math.log(i)\n",
        "  return round(sum,4)"
      ],
      "execution_count": 12,
      "outputs": []
    },
    {
      "cell_type": "code",
      "metadata": {
        "id": "803oUf5lcdca",
        "colab_type": "code",
        "colab": {
          "base_uri": "https://localhost:8080/",
          "height": 50
        },
        "outputId": "c97809a0-61a5-41ab-9fca-ef62c3b88f9d"
      },
      "source": [
        "N=int(input())\n",
        "function1(N)"
      ],
      "execution_count": 13,
      "outputs": [
        {
          "output_type": "stream",
          "text": [
            "4\n"
          ],
          "name": "stdout"
        },
        {
          "output_type": "execute_result",
          "data": {
            "text/plain": [
              "3.1781"
            ]
          },
          "metadata": {
            "tags": []
          },
          "execution_count": 13
        }
      ]
    }
  ]
}